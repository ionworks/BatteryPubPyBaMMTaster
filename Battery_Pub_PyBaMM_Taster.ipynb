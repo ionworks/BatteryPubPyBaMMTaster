{
 "cells": [
  {
   "cell_type": "markdown",
   "id": "0ad06ef0-0b99-4b28-aab7-57458693bd82",
   "metadata": {},
   "source": [
    "# Battery Pub PyBaMM Taster"
   ]
  },
  {
   "cell_type": "markdown",
   "id": "4c462e63-6410-42b2-b797-5e570421e1ff",
   "metadata": {},
   "source": [
    "## 01 Running a simulation in 6 easy steps"
   ]
  },
  {
   "cell_type": "markdown",
   "id": "e51f4fa3-8bd1-455d-b8a0-cef6511599c1",
   "metadata": {},
   "source": [
    "Import the PyBaMM package"
   ]
  },
  {
   "cell_type": "code",
   "execution_count": null,
   "id": "c8cee4dc-c64a-4df1-b282-b01a7bd78d8d",
   "metadata": {
    "tags": []
   },
   "outputs": [
    {
     "name": "stderr",
     "output_type": "stream",
     "text": [
      "ERROR: Invalid requirement: '#'\n"
     ]
    },
    {
     "name": "stdout",
     "output_type": "stream",
     "text": [
      "Note: you may need to restart the kernel to use updated packages.\n"
     ]
    }
   ],
   "source": [
    "%pip install pybamm -q    # install PyBaMM if it is not installed\n",
    "import pybamm"
   ]
  },
  {
   "cell_type": "markdown",
   "id": "0811d586-26d6-44ca-b7b5-6a16b71b3c01",
   "metadata": {},
   "source": [
    "Load the model that we wish to run. For this notebook, we choose the Doyle-Fuller-Newman (DFN) model:"
   ]
  },
  {
   "cell_type": "code",
   "execution_count": 2,
   "id": "79a1db65-7aef-459e-8142-5f7e9050cbd0",
   "metadata": {
    "tags": []
   },
   "outputs": [],
   "source": [
    "model = pybamm.lithium_ion.DFN()"
   ]
  },
  {
   "cell_type": "markdown",
   "id": "41f57f5e-0d11-4850-8a96-7bcd85058a9f",
   "metadata": {},
   "source": [
    "Load the Parameter Values that we wish to run. For this notebook, we choose the Chen2020 parameter set [Chen et al (2020)](https://iopscience.iop.org/article/10.1149/1945-7111/ab9050):"
   ]
  },
  {
   "cell_type": "code",
   "execution_count": 3,
   "id": "100de923-7e0e-4b39-9dd1-307c337b15da",
   "metadata": {},
   "outputs": [],
   "source": [
    "parameter_values = pybamm.ParameterValues(\"Chen2020\")"
   ]
  },
  {
   "cell_type": "markdown",
   "id": "710b20b7-383a-4d12-908f-723d0b89db6d",
   "metadata": {},
   "source": [
    "We now use this model to create a PyBaMM Simulation, which is used to process and solve the model:"
   ]
  },
  {
   "cell_type": "code",
   "execution_count": 4,
   "id": "361e70e1-89f6-4259-a6a2-d1e987b831c6",
   "metadata": {
    "tags": []
   },
   "outputs": [],
   "source": [
    "sim = pybamm.Simulation(model, parameter_values=parameter_values)"
   ]
  },
  {
   "cell_type": "markdown",
   "id": "a201709e-09fa-4811-8156-d8f0784e7e50",
   "metadata": {},
   "source": [
    "We can then call 'solve' on our simulation object to solve the model, passing the window of time to solve for in seconds (here 1 hour):"
   ]
  },
  {
   "cell_type": "code",
   "execution_count": 5,
   "id": "d802f1e9-4d0b-4a1e-b79f-74d9b96e070c",
   "metadata": {
    "tags": []
   },
   "outputs": [],
   "source": [
    "sol = sim.solve([0, 3600])"
   ]
  },
  {
   "cell_type": "markdown",
   "id": "dfbd6473-b9a1-4a84-b216-dc7243007a41",
   "metadata": {},
   "source": [
    "Finally, we can call 'plot' to generate a dynamic plot of the key variables:"
   ]
  },
  {
   "cell_type": "code",
   "execution_count": 6,
   "id": "cc07c999-1b29-4de7-a9d3-77450db6785e",
   "metadata": {
    "tags": []
   },
   "outputs": [
    {
     "data": {
      "application/vnd.jupyter.widget-view+json": {
       "model_id": "491a368892964b5a9aa359f544531aef",
       "version_major": 2,
       "version_minor": 0
      },
      "text/plain": [
       "interactive(children=(FloatSlider(value=0.0, description='t', max=3555.4480183302453, step=35.55448018330245),…"
      ]
     },
     "metadata": {},
     "output_type": "display_data"
    },
    {
     "data": {
      "text/plain": [
       "<pybamm.plotting.quick_plot.QuickPlot at 0x244184f2380>"
      ]
     },
     "execution_count": 6,
     "metadata": {},
     "output_type": "execute_result"
    }
   ],
   "source": [
    "sim.plot()"
   ]
  },
  {
   "cell_type": "markdown",
   "id": "84cede43-480f-4be8-9102-9b1150b242ef",
   "metadata": {},
   "source": [
    "## 02 Inspecting and customising a parameter set"
   ]
  },
  {
   "cell_type": "code",
   "execution_count": 7,
   "id": "2c339a63-96e4-44d7-af4c-ecdaa0ecc4cd",
   "metadata": {
    "tags": []
   },
   "outputs": [
    {
     "data": {
      "text/plain": [
       "{'Ambient temperature [K]': 298.15,\n",
       " 'Boltzmann constant [J.K-1]': 1.380649e-23,\n",
       " 'Bulk solvent concentration [mol.m-3]': 2636.0,\n",
       " 'Cation transference number': 0.2594,\n",
       " 'Cell cooling surface area [m2]': 0.00531,\n",
       " 'Cell thermal expansion coefficient [m.K-1]': 1.1e-06,\n",
       " 'Cell volume [m3]': 2.42e-05,\n",
       " 'Contact resistance [Ohm]': 0,\n",
       " 'Current function [A]': 5.0,\n",
       " 'EC diffusivity [m2.s-1]': 2e-18,\n",
       " 'EC initial concentration in electrolyte [mol.m-3]': 4541.0,\n",
       " 'Electrode height [m]': 0.065,\n",
       " 'Electrode width [m]': 1.58,\n",
       " 'Electrolyte conductivity [S.m-1]': <function electrolyte_conductivity_Nyman2008 at 0x000002441810DD80>,\n",
       " 'Electrolyte diffusivity [m2.s-1]': <function electrolyte_diffusivity_Nyman2008 at 0x000002441810DEA0>,\n",
       " 'Electron charge [C]': 1.602176634e-19,\n",
       " 'Faraday constant [C.mol-1]': 96485.33212,\n",
       " 'Ideal gas constant [J.K-1.mol-1]': 8.314462618,\n",
       " 'Initial concentration in electrolyte [mol.m-3]': 1000.0,\n",
       " 'Initial concentration in negative electrode [mol.m-3]': 29866.0,\n",
       " 'Initial concentration in positive electrode [mol.m-3]': 17038.0,\n",
       " 'Initial inner SEI thickness [m]': 2.5e-09,\n",
       " 'Initial outer SEI thickness [m]': 2.5e-09,\n",
       " 'Initial temperature [K]': 298.15,\n",
       " 'Inner SEI electron conductivity [S.m-1]': 8.95e-14,\n",
       " 'Inner SEI lithium interstitial diffusivity [m2.s-1]': 1e-20,\n",
       " 'Inner SEI open-circuit potential [V]': 0.1,\n",
       " 'Inner SEI partial molar volume [m3.mol-1]': 9.585e-05,\n",
       " 'Inner SEI reaction proportion': 0.5,\n",
       " 'Lithium interstitial reference concentration [mol.m-3]': 15.0,\n",
       " 'Lower voltage cut-off [V]': 2.5,\n",
       " 'Maximum concentration in negative electrode [mol.m-3]': 33133.0,\n",
       " 'Maximum concentration in positive electrode [mol.m-3]': 63104.0,\n",
       " 'Negative current collector conductivity [S.m-1]': 58411000.0,\n",
       " 'Negative current collector density [kg.m-3]': 8960.0,\n",
       " 'Negative current collector specific heat capacity [J.kg-1.K-1]': 385.0,\n",
       " 'Negative current collector thermal conductivity [W.m-1.K-1]': 401.0,\n",
       " 'Negative current collector thickness [m]': 1.2e-05,\n",
       " 'Negative electrode Bruggeman coefficient (electrode)': 0,\n",
       " 'Negative electrode Bruggeman coefficient (electrolyte)': 1.5,\n",
       " 'Negative electrode OCP [V]': <function graphite_LGM50_ocp_Chen2020 at 0x000002441810F250>,\n",
       " 'Negative electrode OCP entropic change [V.K-1]': 0.0,\n",
       " 'Negative electrode active material volume fraction': 0.75,\n",
       " 'Negative electrode charge transfer coefficient': 0.5,\n",
       " 'Negative electrode conductivity [S.m-1]': 215.0,\n",
       " 'Negative electrode density [kg.m-3]': 1657.0,\n",
       " 'Negative electrode diffusivity [m2.s-1]': 3.3e-14,\n",
       " 'Negative electrode double-layer capacity [F.m-2]': 0.2,\n",
       " 'Negative electrode exchange-current density [A.m-2]': <function graphite_LGM50_electrolyte_exchange_current_density_Chen2020 at 0x000002441810F0A0>,\n",
       " 'Negative electrode porosity': 0.25,\n",
       " 'Negative electrode reaction-driven LAM factor [m3.mol-1]': 0.0,\n",
       " 'Negative electrode specific heat capacity [J.kg-1.K-1]': 700.0,\n",
       " 'Negative electrode thermal conductivity [W.m-1.K-1]': 1.7,\n",
       " 'Negative electrode thickness [m]': 8.52e-05,\n",
       " 'Negative particle radius [m]': 5.86e-06,\n",
       " 'Nominal cell capacity [A.h]': 5.0,\n",
       " 'Number of cells connected in series to make a battery': 1.0,\n",
       " 'Number of electrodes connected in parallel to make a cell': 1.0,\n",
       " 'Outer SEI open-circuit potential [V]': 0.8,\n",
       " 'Outer SEI partial molar volume [m3.mol-1]': 9.585e-05,\n",
       " 'Outer SEI solvent diffusivity [m2.s-1]': 2.5000000000000002e-22,\n",
       " 'Positive current collector conductivity [S.m-1]': 36914000.0,\n",
       " 'Positive current collector density [kg.m-3]': 2700.0,\n",
       " 'Positive current collector specific heat capacity [J.kg-1.K-1]': 897.0,\n",
       " 'Positive current collector thermal conductivity [W.m-1.K-1]': 237.0,\n",
       " 'Positive current collector thickness [m]': 1.6e-05,\n",
       " 'Positive electrode Bruggeman coefficient (electrode)': 0,\n",
       " 'Positive electrode Bruggeman coefficient (electrolyte)': 1.5,\n",
       " 'Positive electrode OCP [V]': <function nmc_LGM50_ocp_Chen2020 at 0x000002441810F010>,\n",
       " 'Positive electrode OCP entropic change [V.K-1]': 0.0,\n",
       " 'Positive electrode active material volume fraction': 0.665,\n",
       " 'Positive electrode charge transfer coefficient': 0.5,\n",
       " 'Positive electrode conductivity [S.m-1]': 0.18,\n",
       " 'Positive electrode density [kg.m-3]': 3262.0,\n",
       " 'Positive electrode diffusivity [m2.s-1]': 4e-15,\n",
       " 'Positive electrode double-layer capacity [F.m-2]': 0.2,\n",
       " 'Positive electrode exchange-current density [A.m-2]': <function nmc_LGM50_electrolyte_exchange_current_density_Chen2020 at 0x000002441810DE10>,\n",
       " 'Positive electrode porosity': 0.335,\n",
       " 'Positive electrode reaction-driven LAM factor [m3.mol-1]': 0.0,\n",
       " 'Positive electrode specific heat capacity [J.kg-1.K-1]': 700.0,\n",
       " 'Positive electrode thermal conductivity [W.m-1.K-1]': 2.1,\n",
       " 'Positive electrode thickness [m]': 7.56e-05,\n",
       " 'Positive particle radius [m]': 5.22e-06,\n",
       " 'Ratio of lithium moles to SEI moles': 2.0,\n",
       " 'Reference temperature [K]': 298.15,\n",
       " 'SEI growth activation energy [J.mol-1]': 0.0,\n",
       " 'SEI kinetic rate constant [m.s-1]': 1e-12,\n",
       " 'SEI open-circuit potential [V]': 0.4,\n",
       " 'SEI reaction exchange current density [A.m-2]': 1.5e-07,\n",
       " 'SEI resistivity [Ohm.m]': 200000.0,\n",
       " 'Separator Bruggeman coefficient (electrolyte)': 1.5,\n",
       " 'Separator density [kg.m-3]': 397.0,\n",
       " 'Separator porosity': 0.47,\n",
       " 'Separator specific heat capacity [J.kg-1.K-1]': 700.0,\n",
       " 'Separator thermal conductivity [W.m-1.K-1]': 0.16,\n",
       " 'Separator thickness [m]': 1.2e-05,\n",
       " 'Thermodynamic factor': 1.0,\n",
       " 'Total heat transfer coefficient [W.m-2.K-1]': 10.0,\n",
       " 'Upper voltage cut-off [V]': 4.2,\n",
       " 'citations': ['Chen2020']}"
      ]
     },
     "execution_count": 7,
     "metadata": {},
     "output_type": "execute_result"
    }
   ],
   "source": [
    "parameter_values"
   ]
  },
  {
   "cell_type": "markdown",
   "id": "75e40c84-f516-42af-897a-373aea4aa1f6",
   "metadata": {},
   "source": [
    "We can observe this returns a dictionary with the parameters, so we can access a given value simply by typing the right key."
   ]
  },
  {
   "cell_type": "code",
   "execution_count": 8,
   "id": "966819ee-9b21-4736-ac0f-855936ff1e00",
   "metadata": {
    "tags": []
   },
   "outputs": [
    {
     "data": {
      "text/plain": [
       "0.25"
      ]
     },
     "execution_count": 8,
     "metadata": {},
     "output_type": "execute_result"
    }
   ],
   "source": [
    "parameter_values[\"Negative electrode porosity\"]"
   ]
  },
  {
   "cell_type": "markdown",
   "id": "aa056def-b902-43ee-9e96-331e2d8701ab",
   "metadata": {},
   "source": [
    "However, if we check the type of the object, we will notice that this is not a standard dictionary but a `ParameterValues` object."
   ]
  },
  {
   "cell_type": "code",
   "execution_count": 9,
   "id": "96346ae1-02d2-4d1b-9c47-13c641dd55fd",
   "metadata": {
    "tags": []
   },
   "outputs": [
    {
     "data": {
      "text/plain": [
       "pybamm.parameters.parameter_values.ParameterValues"
      ]
     },
     "execution_count": 9,
     "metadata": {},
     "output_type": "execute_result"
    }
   ],
   "source": [
    "type(parameter_values)"
   ]
  },
  {
   "cell_type": "markdown",
   "id": "97e68a83-c413-4aad-9c27-3628c6638359",
   "metadata": {},
   "source": [
    "This means it has some additional functionality. For example, we can search in the dictionary the entries with a specific keyword(s)."
   ]
  },
  {
   "cell_type": "code",
   "execution_count": 10,
   "id": "24c6ade9-2011-4b32-b5bd-577ea240d20b",
   "metadata": {
    "tags": []
   },
   "outputs": [
    {
     "name": "stdout",
     "output_type": "stream",
     "text": [
      "Negative electrode porosity\t0.25\n",
      "Positive electrode porosity\t0.335\n",
      "Separator porosity\t0.47\n"
     ]
    }
   ],
   "source": [
    "parameter_values.search(\"porosity\")"
   ]
  },
  {
   "cell_type": "markdown",
   "id": "0eb78026-0d8d-4c87-8d9e-80941c55ca3e",
   "metadata": {},
   "source": [
    "Often we want to change the parameter sets, or even define a completely new one. To modify an existing parameter set, we can simply modify it by assigning a new value to a given parameter."
   ]
  },
  {
   "cell_type": "code",
   "execution_count": 7,
   "id": "2c7e07ef-090d-4e2a-ae90-f077ed1a9a25",
   "metadata": {
    "tags": []
   },
   "outputs": [],
   "source": [
    "parameter_values[\"Negative electrode porosity\"] = 0.3"
   ]
  },
  {
   "cell_type": "markdown",
   "id": "53081171-b633-48e0-bf8c-951b981e34bd",
   "metadata": {},
   "source": [
    "If you want to update several parameters at once, it is convenient to use the `update` command."
   ]
  },
  {
   "cell_type": "code",
   "execution_count": 13,
   "id": "b31260e1-84ff-46b8-a6cb-81b083f9c26b",
   "metadata": {
    "tags": []
   },
   "outputs": [],
   "source": [
    "parameter_values.update({\n",
    "    \"Negative electrode porosity\": 0.2,\n",
    "})"
   ]
  },
  {
   "cell_type": "markdown",
   "id": "98de0b65-2278-442f-b842-6e8c8f94c8b2",
   "metadata": {},
   "source": [
    "For safety, if you try to add a parameter that doesn't already exist in the dictionary, you will get an error. To avoid that, you can pass the option `check_already_exists=False` when updating a parameter set."
   ]
  },
  {
   "cell_type": "markdown",
   "id": "074ad786-a9e0-4bd0-b11c-8d30c1e1798d",
   "metadata": {},
   "source": [
    "## 03 Use Quickplot to compare simulations"
   ]
  },
  {
   "cell_type": "code",
   "execution_count": 15,
   "id": "f0584be7-d1ff-49e9-953b-d42bba505c87",
   "metadata": {},
   "outputs": [
    {
     "data": {
      "text/plain": [
       "<pybamm.solvers.solution.Solution at 0x2441cbb2230>"
      ]
     },
     "execution_count": 15,
     "metadata": {},
     "output_type": "execute_result"
    }
   ],
   "source": [
    "sim2 = pybamm.Simulation(model, parameter_values=parameter_values)\n",
    "sim2.solve([0, 3600])"
   ]
  },
  {
   "cell_type": "code",
   "execution_count": 20,
   "id": "2648652a-e390-419c-b3e7-d2ca5a218a63",
   "metadata": {},
   "outputs": [],
   "source": [
    "plot = pybamm.QuickPlot(solutions=[sim.solution, sim2.solution], labels=[\"Normal porosity\", \"Lower porosity\"])"
   ]
  },
  {
   "cell_type": "code",
   "execution_count": 21,
   "id": "79250a64-3806-417e-ac22-0caa4b7c1d82",
   "metadata": {},
   "outputs": [
    {
     "data": {
      "application/vnd.jupyter.widget-view+json": {
       "model_id": "5a0aed3d9cef4fdf8632a4c83bfa4792",
       "version_major": 2,
       "version_minor": 0
      },
      "text/plain": [
       "interactive(children=(FloatSlider(value=0.0, description='t', max=3555.4480183302453, step=35.55448018330245),…"
      ]
     },
     "metadata": {},
     "output_type": "display_data"
    }
   ],
   "source": [
    "plot.dynamic_plot()"
   ]
  },
  {
   "cell_type": "markdown",
   "id": "8179ae11-6d85-4a44-9008-612b82f1afa4",
   "metadata": {},
   "source": [
    "## 04 Changing model options\n",
    "\n",
    "In PyBaMM options can be passed to models to easily change what physics is included and how it is modelled. A full list of options can be found in the [documentation](https://pybamm.readthedocs.io/en/latest/source/models/base_models/base_battery_model.html?highlight=options#pybamm.BatteryModelOptions.options)."
   ]
  },
  {
   "cell_type": "code",
   "execution_count": 22,
   "id": "570d1d66-763c-4da1-845f-9051525f120e",
   "metadata": {
    "tags": []
   },
   "outputs": [
    {
     "data": {
      "text/plain": [
       "{'calculate discharge energy': ['false', 'true'],\n",
       " 'calculate heat source for isothermal models': ['false', 'true'],\n",
       " 'cell geometry': ['arbitrary', 'pouch'],\n",
       " 'contact resistance': ['false', 'true'],\n",
       " 'convection': ['none', 'uniform transverse', 'full transverse'],\n",
       " 'current collector': ['uniform',\n",
       "  'potential pair',\n",
       "  'potential pair quite conductive'],\n",
       " 'dimensionality': [0, 1, 2],\n",
       " 'electrolyte conductivity': ['default',\n",
       "  'full',\n",
       "  'leading order',\n",
       "  'composite',\n",
       "  'integrated'],\n",
       " 'hydrolysis': ['false', 'true'],\n",
       " 'intercalation kinetics': ['symmetric Butler-Volmer',\n",
       "  'asymmetric Butler-Volmer',\n",
       "  'linear',\n",
       "  'Marcus',\n",
       "  'Marcus-Hush-Chidsey'],\n",
       " 'interface utilisation': ['full', 'constant', 'current-driven'],\n",
       " 'lithium plating': ['none',\n",
       "  'reversible',\n",
       "  'partially reversible',\n",
       "  'irreversible'],\n",
       " 'lithium plating porosity change': ['false', 'true'],\n",
       " 'loss of active material': ['none',\n",
       "  'stress-driven',\n",
       "  'reaction-driven',\n",
       "  'stress and reaction-driven'],\n",
       " 'open-circuit potential': ['single', 'current sigmoid'],\n",
       " 'operating mode': ['current',\n",
       "  'voltage',\n",
       "  'power',\n",
       "  'differential power',\n",
       "  'explicit power',\n",
       "  'resistance',\n",
       "  'differential resistance',\n",
       "  'explicit resistance',\n",
       "  'CCCV'],\n",
       " 'particle': ['Fickian diffusion',\n",
       "  'fast diffusion',\n",
       "  'uniform profile',\n",
       "  'quadratic profile',\n",
       "  'quartic profile'],\n",
       " 'particle mechanics': ['none', 'swelling only', 'swelling and cracking'],\n",
       " 'particle phases': ['1', '2'],\n",
       " 'particle shape': ['spherical', 'no particles'],\n",
       " 'particle size': ['single', 'distribution'],\n",
       " 'SEI': ['none',\n",
       "  'constant',\n",
       "  'reaction limited',\n",
       "  'reaction limited (asymmetric)',\n",
       "  'solvent-diffusion limited',\n",
       "  'electron-migration limited',\n",
       "  'interstitial-diffusion limited',\n",
       "  'ec reaction limited',\n",
       "  'ec reaction limited (asymmetric)'],\n",
       " 'SEI film resistance': ['none', 'distributed', 'average'],\n",
       " 'SEI on cracks': ['false', 'true'],\n",
       " 'SEI porosity change': ['false', 'true'],\n",
       " 'stress-induced diffusion': ['false', 'true'],\n",
       " 'surface form': ['false', 'differential', 'algebraic'],\n",
       " 'thermal': ['isothermal', 'lumped', 'x-lumped', 'x-full'],\n",
       " 'total interfacial current density as a state': ['false', 'true'],\n",
       " 'working electrode': ['both', 'negative', 'positive'],\n",
       " 'x-average side reactions': ['false', 'true']}"
      ]
     },
     "execution_count": 22,
     "metadata": {},
     "output_type": "execute_result"
    }
   ],
   "source": [
    "pybamm.BatteryModelOptions({}).possible_options"
   ]
  },
  {
   "cell_type": "code",
   "execution_count": 23,
   "id": "aa89790a-83f6-430e-af50-aee0e60d9f55",
   "metadata": {
    "tags": []
   },
   "outputs": [
    {
     "name": "stdout",
     "output_type": "stream",
     "text": [
      "Solve time: 1.038 s\n",
      "Solve time: 15.066 ms\n",
      "Solve time: 15.081 ms\n",
      "Solve time: 20.737 ms\n"
     ]
    }
   ],
   "source": [
    "# list options to compare\n",
    "particle_options = [\n",
    "    'Fickian diffusion',\n",
    "    'uniform profile',\n",
    "    'quadratic profile',\n",
    "    'quartic profile',\n",
    "]\n",
    "\n",
    "# loop over options and solve\n",
    "sols = []\n",
    "for option in particle_options:\n",
    "    model = pybamm.lithium_ion.SPMe(options={\"particle\": option})\n",
    "    params = pybamm.ParameterValues(\"Ecker2015\")  # includes nonlinear diffusivity \n",
    "    sim = pybamm.Simulation(model, parameter_values=params)\n",
    "    sol = sim.solve([0, 4000])\n",
    "    print(\"Solve time:\", sol.solve_time)\n",
    "    sols.append(sol) "
   ]
  },
  {
   "cell_type": "markdown",
   "id": "132e20ff-920b-4425-ba46-f0c1bd84fb01",
   "metadata": {},
   "source": [
    "Let's see how they compare on the surface"
   ]
  },
  {
   "cell_type": "code",
   "execution_count": 24,
   "id": "51c88cd6-0dd1-48ea-aa1a-62f9d5ae37bb",
   "metadata": {
    "tags": []
   },
   "outputs": [
    {
     "data": {
      "application/vnd.jupyter.widget-view+json": {
       "model_id": "cf608b7edf084b8bb09d70450b05864f",
       "version_major": 2,
       "version_minor": 0
      },
      "text/plain": [
       "interactive(children=(FloatSlider(value=0.0, description='t', max=1.0517494588988765, step=0.01051749458898876…"
      ]
     },
     "metadata": {},
     "output_type": "display_data"
    },
    {
     "data": {
      "text/plain": [
       "<pybamm.plotting.quick_plot.QuickPlot at 0x2442073eb30>"
      ]
     },
     "execution_count": 24,
     "metadata": {},
     "output_type": "execute_result"
    }
   ],
   "source": [
    "# plot comparison\n",
    "pybamm.dynamic_plot(sols, labels=particle_options)"
   ]
  },
  {
   "cell_type": "code",
   "execution_count": 25,
   "id": "49fca459-e135-4e0b-99d1-e947261471e2",
   "metadata": {
    "tags": []
   },
   "outputs": [
    {
     "data": {
      "application/vnd.jupyter.widget-view+json": {
       "model_id": "5701f20c0b014578b0bd61dae0d42a4f",
       "version_major": 2,
       "version_minor": 0
      },
      "text/plain": [
       "interactive(children=(FloatSlider(value=0.0, description='t', max=1.0517494588988765, step=0.01051749458898876…"
      ]
     },
     "metadata": {},
     "output_type": "display_data"
    },
    {
     "data": {
      "text/plain": [
       "<pybamm.plotting.quick_plot.QuickPlot at 0x24421070370>"
      ]
     },
     "execution_count": 25,
     "metadata": {},
     "output_type": "execute_result"
    }
   ],
   "source": [
    "# plot comparison\n",
    "pybamm.dynamic_plot(\n",
    "    sols, \n",
    "    [\"X-averaged negative particle concentration\", \"X-averaged positive particle concentration\"], \n",
    "    labels=particle_options,\n",
    ")"
   ]
  },
  {
   "cell_type": "markdown",
   "id": "7663f290-34ac-410a-8216-949f973e6e2e",
   "metadata": {},
   "source": [
    "## 05 Running Experiments"
   ]
  },
  {
   "cell_type": "markdown",
   "id": "5283de9a-aec6-410f-a46c-45d02a5e4f3a",
   "metadata": {},
   "source": [
    "### Old syntax"
   ]
  },
  {
   "cell_type": "markdown",
   "id": "7251a22d-c765-4ad5-933a-25bda3334bc9",
   "metadata": {},
   "source": [
    "The simplest way to set up an experiment is to define the operating conditions using a simple string. We can use plan English commands to describe steps of prescribed current, voltage or power and include termination conditions. Round brackets within the list of instructions are used to denote cycles"
   ]
  },
  {
   "cell_type": "code",
   "execution_count": 26,
   "id": "49621046-6133-4cfc-94c6-7c7d5babb901",
   "metadata": {
    "tags": []
   },
   "outputs": [],
   "source": [
    "experiment = pybamm.Experiment([\n",
    "    (\"Discharge at 1C until 3V\",\n",
    "     \"Rest for 1 hour\",\n",
    "     \"Charge at 1C until 4.2V\", \n",
    "     \"Hold at 4.2V until C/50\"\n",
    "    )\n",
    "])"
   ]
  },
  {
   "cell_type": "markdown",
   "id": "23cabbde-fd75-41b4-8f1e-f824c4e72c5c",
   "metadata": {},
   "source": [
    "We then simply pass the experiment to the simulation class"
   ]
  },
  {
   "cell_type": "code",
   "execution_count": 27,
   "id": "e7bbe8b0-dad0-41b7-9b32-cf87f2584b8b",
   "metadata": {
    "tags": []
   },
   "outputs": [],
   "source": [
    "model = pybamm.lithium_ion.SPMe()\n",
    "sim = pybamm.Simulation(model, experiment=experiment)"
   ]
  },
  {
   "cell_type": "markdown",
   "id": "a6824c9e-f4db-42f0-88f9-550dd9cbdeec",
   "metadata": {},
   "source": [
    "and solve"
   ]
  },
  {
   "cell_type": "code",
   "execution_count": 28,
   "id": "b20e8f75-839e-4c27-98d9-cb09c55ee068",
   "metadata": {
    "tags": []
   },
   "outputs": [],
   "source": [
    "sol = sim.solve()"
   ]
  },
  {
   "cell_type": "code",
   "execution_count": 29,
   "id": "ed69356b-43ca-4656-8e5f-caf91b0ff212",
   "metadata": {
    "tags": []
   },
   "outputs": [
    {
     "data": {
      "application/vnd.jupyter.widget-view+json": {
       "model_id": "a22a74d57ac646d399a669a82b45d106",
       "version_major": 2,
       "version_minor": 0
      },
      "text/plain": [
       "interactive(children=(FloatSlider(value=0.0, description='t', max=3.5910005673132734, step=0.03591000567313273…"
      ]
     },
     "metadata": {},
     "output_type": "display_data"
    },
    {
     "data": {
      "text/plain": [
       "<pybamm.plotting.quick_plot.QuickPlot at 0x2442288a0b0>"
      ]
     },
     "execution_count": 29,
     "metadata": {},
     "output_type": "execute_result"
    }
   ],
   "source": [
    "sim.plot()"
   ]
  },
  {
   "cell_type": "markdown",
   "id": "ed261e4b-f177-487a-9846-3a2e1050b82a",
   "metadata": {},
   "source": [
    "We can look at the parts of the solution that correspond to the cycles"
   ]
  },
  {
   "cell_type": "code",
   "execution_count": 30,
   "id": "2044f029-1255-4023-84bb-483ae939498b",
   "metadata": {
    "tags": []
   },
   "outputs": [
    {
     "data": {
      "text/plain": [
       "[<pybamm.solvers.solution.Solution at 0x2442288a5f0>]"
      ]
     },
     "execution_count": 30,
     "metadata": {},
     "output_type": "execute_result"
    }
   ],
   "source": [
    "sol.cycles"
   ]
  },
  {
   "cell_type": "markdown",
   "id": "6172c385-2044-4915-82bc-37278d307091",
   "metadata": {},
   "source": [
    "Here we have a single cycle. We can also look at the individual steps that make up the cycle"
   ]
  },
  {
   "cell_type": "code",
   "execution_count": 31,
   "id": "c70019db-4c9f-4799-b851-b9a4f39f4d81",
   "metadata": {
    "tags": []
   },
   "outputs": [
    {
     "data": {
      "text/plain": [
       "[<pybamm.solvers.solution.Solution at 0x244254a8340>,\n",
       " <pybamm.solvers.solution.Solution at 0x24422d59660>,\n",
       " <pybamm.solvers.solution.Solution at 0x244182c1720>,\n",
       " <pybamm.solvers.solution.Solution at 0x2441832cac0>]"
      ]
     },
     "execution_count": 31,
     "metadata": {},
     "output_type": "execute_result"
    }
   ],
   "source": [
    "sol.cycles[0].steps"
   ]
  },
  {
   "cell_type": "markdown",
   "id": "c06e70eb-aa1f-42d5-bd9f-2b16ecf5ab2d",
   "metadata": {},
   "source": [
    "and plot them individually"
   ]
  },
  {
   "cell_type": "code",
   "execution_count": 32,
   "id": "0fa963f7-d0c0-41a2-8571-0a517201e6e3",
   "metadata": {
    "tags": []
   },
   "outputs": [
    {
     "data": {
      "application/vnd.jupyter.widget-view+json": {
       "model_id": "7cf2e1f34cad41b3b1310b691d934405",
       "version_major": 2,
       "version_minor": 0
      },
      "text/plain": [
       "interactive(children=(FloatSlider(value=2.01166644621969, description='t', max=3.2537258400021987, min=2.01166…"
      ]
     },
     "metadata": {},
     "output_type": "display_data"
    },
    {
     "data": {
      "text/plain": [
       "<pybamm.plotting.quick_plot.QuickPlot at 0x24422dcc940>"
      ]
     },
     "execution_count": 32,
     "metadata": {},
     "output_type": "execute_result"
    }
   ],
   "source": [
    "sol.cycles[0].steps[2].plot()"
   ]
  },
  {
   "cell_type": "markdown",
   "id": "0c4d2eba-cf13-42bf-a794-5e54bf45eba4",
   "metadata": {},
   "source": [
    "### New syntax"
   ]
  },
  {
   "cell_type": "code",
   "execution_count": 35,
   "id": "ff27972c-48c2-4b87-b8da-acf505e02d28",
   "metadata": {
    "tags": []
   },
   "outputs": [],
   "source": [
    "import numpy as np\n",
    "\n",
    "t = np.linspace(0, 600, 601)\n",
    "sin_t = 10 * np.sin(2 * np.pi * t / 100)\n",
    "drive_cycle_power = np.column_stack([t,sin_t])\n",
    "power_step = [pybamm.step.power(drive_cycle_power)]\n",
    "\n",
    "current_step = [pybamm.step.current(-1, termination=\"4.2V\", period=\"5s\")]\n",
    "voltage_step = [pybamm.step.voltage(4.2, termination=\"C/50\")]\n",
    "experiment = pybamm.Experiment(power_step + current_step + voltage_step)"
   ]
  },
  {
   "cell_type": "code",
   "execution_count": 34,
   "id": "6a491663-6f1b-4e4e-a40b-649bdbf32ffb",
   "metadata": {
    "tags": []
   },
   "outputs": [
    {
     "data": {
      "application/vnd.jupyter.widget-view+json": {
       "model_id": "5f218ea1ed1a47df9c70766211659aae",
       "version_major": 2,
       "version_minor": 0
      },
      "text/plain": [
       "interactive(children=(FloatSlider(value=0.0, description='t', max=2458.436270774266, step=24.584362707742663),…"
      ]
     },
     "metadata": {},
     "output_type": "display_data"
    },
    {
     "data": {
      "text/plain": [
       "<pybamm.plotting.quick_plot.QuickPlot at 0x24423417d00>"
      ]
     },
     "execution_count": 34,
     "metadata": {},
     "output_type": "execute_result"
    }
   ],
   "source": [
    "sim = pybamm.Simulation(model, experiment=experiment)\n",
    "sol = sim.solve()\n",
    "sim.plot()"
   ]
  },
  {
   "cell_type": "markdown",
   "id": "1e702c23-3316-4e72-b5a5-a3d6f7978375",
   "metadata": {},
   "source": [
    "## 06 Simulating Degradation"
   ]
  },
  {
   "cell_type": "code",
   "execution_count": 37,
   "id": "21a4c254-cf5e-4bec-a823-5ebf22ba2bf3",
   "metadata": {
    "tags": []
   },
   "outputs": [],
   "source": [
    "parameter_values = pybamm.ParameterValues(\"Mohtat2020\")\n",
    "parameter_values.update({\"SEI kinetic rate constant [m.s-1]\": 1e-14})\n",
    "spm = pybamm.lithium_ion.SPM({\"SEI\": \"ec reaction limited\"})"
   ]
  },
  {
   "cell_type": "markdown",
   "id": "9cf0b124-eef1-4590-9b14-9137ebc5d88e",
   "metadata": {},
   "source": [
    "We can now simulate a single CCCV cycle using the `Experiment` class (see [this notebook](https://github.com/pybamm-team/PyBaMM/blob/develop/examples/notebooks/Getting%20Started/Tutorial%205%20-%20Run%20experiments.ipynb) for more details)"
   ]
  },
  {
   "cell_type": "code",
   "execution_count": 39,
   "id": "1fb212f6-9047-45a4-aaa4-a6b3b509ac34",
   "metadata": {
    "tags": [
     "outputPrepend"
    ]
   },
   "outputs": [
    {
     "name": "stderr",
     "output_type": "stream",
     "text": [
      "2023-09-04 13:57:06.091 - [NOTICE] callbacks.on_cycle_start(172): Cycle 1/500 (100.400 us elapsed) --------------------\n",
      "2023-09-04 13:57:06.092 - [NOTICE] callbacks.on_step_start(180): Cycle 1/500, step 1/4: Discharge at 1C until 3V\n",
      "2023-09-04 13:57:06.141 - [NOTICE] callbacks.on_step_start(180): Cycle 1/500, step 2/4: Rest for 1 hour\n",
      "2023-09-04 13:57:06.172 - [NOTICE] callbacks.on_step_start(180): Cycle 1/500, step 3/4: Charge at 1C until 4.2V\n",
      "2023-09-04 13:57:06.222 - [NOTICE] callbacks.on_step_start(180): Cycle 1/500, step 4/4: Hold at 4.2V until C/50\n",
      "2023-09-04 13:57:06.990 - [NOTICE] callbacks.on_cycle_end(194): Capacity is now 4.941 Ah (originally 4.941 Ah, will stop at 3.952 Ah)\n",
      "2023-09-04 13:57:06.991 - [NOTICE] callbacks.on_cycle_start(172): Cycle 2/500 (899.458 ms elapsed) --------------------\n",
      "2023-09-04 13:57:06.991 - [NOTICE] callbacks.on_step_start(180): Cycle 2/500, step 1/4: Discharge at 1C until 3V\n",
      "2023-09-04 13:57:07.015 - [NOTICE] callbacks.on_step_start(180): Cycle 2/500, step 2/4: Rest for 1 hour\n",
      "2023-09-04 13:57:07.026 - [NOTICE] callbacks.on_step_start(180): Cycle 2/500, step 3/4: Charge at 1C until 4.2V\n",
      "2023-09-04 13:57:07.045 - [NOTICE] callbacks.on_step_start(180): Cycle 2/500, step 4/4: Hold at 4.2V until C/50\n",
      "2023-09-04 13:57:07.897 - [NOTICE] callbacks.on_cycle_end(194): Capacity is now 4.913 Ah (originally 4.941 Ah, will stop at 3.952 Ah)\n",
      "2023-09-04 13:57:07.898 - [NOTICE] callbacks.on_cycle_start(172): Cycle 3/500 (1.806 s elapsed) --------------------\n",
      "2023-09-04 13:57:07.899 - [NOTICE] callbacks.on_step_start(180): Cycle 3/500, step 1/4: Discharge at 1C until 3V\n",
      "2023-09-04 13:57:07.919 - [NOTICE] callbacks.on_step_start(180): Cycle 3/500, step 2/4: Rest for 1 hour\n",
      "2023-09-04 13:57:07.935 - [NOTICE] callbacks.on_step_start(180): Cycle 3/500, step 3/4: Charge at 1C until 4.2V\n",
      "2023-09-04 13:57:07.954 - [NOTICE] callbacks.on_step_start(180): Cycle 3/500, step 4/4: Hold at 4.2V until C/50\n",
      "2023-09-04 13:57:08.583 - [NOTICE] callbacks.on_cycle_end(194): Capacity is now 4.886 Ah (originally 4.941 Ah, will stop at 3.952 Ah)\n",
      "2023-09-04 13:57:08.584 - [NOTICE] callbacks.on_cycle_start(172): Cycle 4/500 (2.493 s elapsed) --------------------\n",
      "2023-09-04 13:57:08.585 - [NOTICE] callbacks.on_step_start(180): Cycle 4/500, step 1/4: Discharge at 1C until 3V\n",
      "2023-09-04 13:57:08.605 - [NOTICE] callbacks.on_step_start(180): Cycle 4/500, step 2/4: Rest for 1 hour\n",
      "2023-09-04 13:57:08.616 - [NOTICE] callbacks.on_step_start(180): Cycle 4/500, step 3/4: Charge at 1C until 4.2V\n",
      "2023-09-04 13:57:08.632 - [NOTICE] callbacks.on_step_start(180): Cycle 4/500, step 4/4: Hold at 4.2V until C/50\n",
      "2023-09-04 13:57:09.275 - [NOTICE] callbacks.on_cycle_end(194): Capacity is now 4.859 Ah (originally 4.941 Ah, will stop at 3.952 Ah)\n",
      "2023-09-04 13:57:09.275 - [NOTICE] callbacks.on_cycle_start(172): Cycle 5/500 (3.184 s elapsed) --------------------\n",
      "2023-09-04 13:57:09.276 - [NOTICE] callbacks.on_step_start(180): Cycle 5/500, step 1/4: Discharge at 1C until 3V\n",
      "2023-09-04 13:57:09.292 - [NOTICE] callbacks.on_step_start(180): Cycle 5/500, step 2/4: Rest for 1 hour\n",
      "2023-09-04 13:57:09.301 - [NOTICE] callbacks.on_step_start(180): Cycle 5/500, step 3/4: Charge at 1C until 4.2V\n",
      "2023-09-04 13:57:09.316 - [NOTICE] callbacks.on_step_start(180): Cycle 5/500, step 4/4: Hold at 4.2V until C/50\n",
      "2023-09-04 13:57:09.955 - [NOTICE] callbacks.on_cycle_end(194): Capacity is now 4.833 Ah (originally 4.941 Ah, will stop at 3.952 Ah)\n",
      "2023-09-04 13:57:09.956 - [NOTICE] callbacks.on_cycle_start(172): Cycle 6/500 (3.865 s elapsed) --------------------\n",
      "2023-09-04 13:57:09.957 - [NOTICE] callbacks.on_step_start(180): Cycle 6/500, step 1/4: Discharge at 1C until 3V\n",
      "2023-09-04 13:57:09.977 - [NOTICE] callbacks.on_step_start(180): Cycle 6/500, step 2/4: Rest for 1 hour\n",
      "2023-09-04 13:57:09.988 - [NOTICE] callbacks.on_step_start(180): Cycle 6/500, step 3/4: Charge at 1C until 4.2V\n",
      "2023-09-04 13:57:10.005 - [NOTICE] callbacks.on_step_start(180): Cycle 6/500, step 4/4: Hold at 4.2V until C/50\n",
      "2023-09-04 13:57:10.622 - [NOTICE] callbacks.on_cycle_end(194): Capacity is now 4.807 Ah (originally 4.941 Ah, will stop at 3.952 Ah)\n",
      "2023-09-04 13:57:10.623 - [NOTICE] callbacks.on_cycle_start(172): Cycle 7/500 (4.532 s elapsed) --------------------\n",
      "2023-09-04 13:57:10.624 - [NOTICE] callbacks.on_step_start(180): Cycle 7/500, step 1/4: Discharge at 1C until 3V\n",
      "2023-09-04 13:57:10.645 - [NOTICE] callbacks.on_step_start(180): Cycle 7/500, step 2/4: Rest for 1 hour\n",
      "2023-09-04 13:57:10.660 - [NOTICE] callbacks.on_step_start(180): Cycle 7/500, step 3/4: Charge at 1C until 4.2V\n",
      "2023-09-04 13:57:10.679 - [NOTICE] callbacks.on_step_start(180): Cycle 7/500, step 4/4: Hold at 4.2V until C/50\n",
      "2023-09-04 13:57:11.280 - [NOTICE] callbacks.on_cycle_end(194): Capacity is now 4.781 Ah (originally 4.941 Ah, will stop at 3.952 Ah)\n",
      "2023-09-04 13:57:11.280 - [NOTICE] callbacks.on_cycle_start(172): Cycle 8/500 (5.189 s elapsed) --------------------\n",
      "2023-09-04 13:57:11.281 - [NOTICE] callbacks.on_step_start(180): Cycle 8/500, step 1/4: Discharge at 1C until 3V\n",
      "2023-09-04 13:57:11.301 - [NOTICE] callbacks.on_step_start(180): Cycle 8/500, step 2/4: Rest for 1 hour\n",
      "2023-09-04 13:57:11.312 - [NOTICE] callbacks.on_step_start(180): Cycle 8/500, step 3/4: Charge at 1C until 4.2V\n",
      "2023-09-04 13:57:11.327 - [NOTICE] callbacks.on_step_start(180): Cycle 8/500, step 4/4: Hold at 4.2V until C/50\n",
      "2023-09-04 13:57:11.917 - [NOTICE] callbacks.on_cycle_end(194): Capacity is now 4.756 Ah (originally 4.941 Ah, will stop at 3.952 Ah)\n",
      "2023-09-04 13:57:11.918 - [NOTICE] callbacks.on_cycle_start(172): Cycle 9/500 (5.827 s elapsed) --------------------\n",
      "2023-09-04 13:57:11.918 - [NOTICE] callbacks.on_step_start(180): Cycle 9/500, step 1/4: Discharge at 1C until 3V\n",
      "2023-09-04 13:57:11.934 - [NOTICE] callbacks.on_step_start(180): Cycle 9/500, step 2/4: Rest for 1 hour\n",
      "2023-09-04 13:57:11.951 - [NOTICE] callbacks.on_step_start(180): Cycle 9/500, step 3/4: Charge at 1C until 4.2V\n",
      "2023-09-04 13:57:11.971 - [NOTICE] callbacks.on_step_start(180): Cycle 9/500, step 4/4: Hold at 4.2V until C/50\n",
      "2023-09-04 13:57:12.559 - [NOTICE] callbacks.on_cycle_end(194): Capacity is now 4.732 Ah (originally 4.941 Ah, will stop at 3.952 Ah)\n",
      "2023-09-04 13:57:12.560 - [NOTICE] callbacks.on_cycle_start(172): Cycle 10/500 (6.469 s elapsed) --------------------\n",
      "2023-09-04 13:57:12.561 - [NOTICE] callbacks.on_step_start(180): Cycle 10/500, step 1/4: Discharge at 1C until 3V\n",
      "2023-09-04 13:57:12.577 - [NOTICE] callbacks.on_step_start(180): Cycle 10/500, step 2/4: Rest for 1 hour\n",
      "2023-09-04 13:57:12.590 - [NOTICE] callbacks.on_step_start(180): Cycle 10/500, step 3/4: Charge at 1C until 4.2V\n",
      "2023-09-04 13:57:12.604 - [NOTICE] callbacks.on_step_start(180): Cycle 10/500, step 4/4: Hold at 4.2V until C/50\n",
      "2023-09-04 13:57:13.245 - [NOTICE] callbacks.on_cycle_end(194): Capacity is now 4.708 Ah (originally 4.941 Ah, will stop at 3.952 Ah)\n",
      "2023-09-04 13:57:13.245 - [NOTICE] callbacks.on_cycle_start(172): Cycle 11/500 (7.154 s elapsed) --------------------\n",
      "2023-09-04 13:57:13.246 - [NOTICE] callbacks.on_step_start(180): Cycle 11/500, step 1/4: Discharge at 1C until 3V\n",
      "2023-09-04 13:57:13.262 - [NOTICE] callbacks.on_step_start(180): Cycle 11/500, step 2/4: Rest for 1 hour\n",
      "2023-09-04 13:57:13.277 - [NOTICE] callbacks.on_step_start(180): Cycle 11/500, step 3/4: Charge at 1C until 4.2V\n",
      "2023-09-04 13:57:13.295 - [NOTICE] callbacks.on_step_start(180): Cycle 11/500, step 4/4: Hold at 4.2V until C/50\n",
      "2023-09-04 13:57:13.923 - [NOTICE] callbacks.on_cycle_end(194): Capacity is now 4.684 Ah (originally 4.941 Ah, will stop at 3.952 Ah)\n",
      "2023-09-04 13:57:13.924 - [NOTICE] callbacks.on_cycle_start(172): Cycle 12/500 (7.833 s elapsed) --------------------\n",
      "2023-09-04 13:57:13.925 - [NOTICE] callbacks.on_step_start(180): Cycle 12/500, step 1/4: Discharge at 1C until 3V\n",
      "2023-09-04 13:57:13.944 - [NOTICE] callbacks.on_step_start(180): Cycle 12/500, step 2/4: Rest for 1 hour\n",
      "2023-09-04 13:57:13.954 - [NOTICE] callbacks.on_step_start(180): Cycle 12/500, step 3/4: Charge at 1C until 4.2V\n",
      "2023-09-04 13:57:13.971 - [NOTICE] callbacks.on_step_start(180): Cycle 12/500, step 4/4: Hold at 4.2V until C/50\n",
      "2023-09-04 13:57:14.631 - [NOTICE] callbacks.on_cycle_end(194): Capacity is now 4.660 Ah (originally 4.941 Ah, will stop at 3.952 Ah)\n",
      "2023-09-04 13:57:14.632 - [NOTICE] callbacks.on_cycle_start(172): Cycle 13/500 (8.541 s elapsed) --------------------\n",
      "2023-09-04 13:57:14.633 - [NOTICE] callbacks.on_step_start(180): Cycle 13/500, step 1/4: Discharge at 1C until 3V\n",
      "2023-09-04 13:57:14.649 - [NOTICE] callbacks.on_step_start(180): Cycle 13/500, step 2/4: Rest for 1 hour\n",
      "2023-09-04 13:57:14.661 - [NOTICE] callbacks.on_step_start(180): Cycle 13/500, step 3/4: Charge at 1C until 4.2V\n",
      "2023-09-04 13:57:14.677 - [NOTICE] callbacks.on_step_start(180): Cycle 13/500, step 4/4: Hold at 4.2V until C/50\n",
      "2023-09-04 13:57:15.294 - [NOTICE] callbacks.on_cycle_end(194): Capacity is now 4.637 Ah (originally 4.941 Ah, will stop at 3.952 Ah)\n",
      "2023-09-04 13:57:15.295 - [NOTICE] callbacks.on_cycle_start(172): Cycle 14/500 (9.204 s elapsed) --------------------\n",
      "2023-09-04 13:57:15.295 - [NOTICE] callbacks.on_step_start(180): Cycle 14/500, step 1/4: Discharge at 1C until 3V\n",
      "2023-09-04 13:57:15.310 - [NOTICE] callbacks.on_step_start(180): Cycle 14/500, step 2/4: Rest for 1 hour\n",
      "2023-09-04 13:57:15.325 - [NOTICE] callbacks.on_step_start(180): Cycle 14/500, step 3/4: Charge at 1C until 4.2V\n",
      "2023-09-04 13:57:15.345 - [NOTICE] callbacks.on_step_start(180): Cycle 14/500, step 4/4: Hold at 4.2V until C/50\n",
      "2023-09-04 13:57:15.951 - [NOTICE] callbacks.on_cycle_end(194): Capacity is now 4.614 Ah (originally 4.941 Ah, will stop at 3.952 Ah)\n",
      "2023-09-04 13:57:15.951 - [NOTICE] callbacks.on_cycle_start(172): Cycle 15/500 (9.860 s elapsed) --------------------\n",
      "2023-09-04 13:57:15.952 - [NOTICE] callbacks.on_step_start(180): Cycle 15/500, step 1/4: Discharge at 1C until 3V\n",
      "2023-09-04 13:57:15.968 - [NOTICE] callbacks.on_step_start(180): Cycle 15/500, step 2/4: Rest for 1 hour\n",
      "2023-09-04 13:57:15.978 - [NOTICE] callbacks.on_step_start(180): Cycle 15/500, step 3/4: Charge at 1C until 4.2V\n",
      "2023-09-04 13:57:15.994 - [NOTICE] callbacks.on_step_start(180): Cycle 15/500, step 4/4: Hold at 4.2V until C/50\n",
      "2023-09-04 13:57:16.830 - [NOTICE] callbacks.on_cycle_end(194): Capacity is now 4.592 Ah (originally 4.941 Ah, will stop at 3.952 Ah)\n",
      "2023-09-04 13:57:16.830 - [NOTICE] callbacks.on_cycle_start(172): Cycle 16/500 (10.739 s elapsed) --------------------\n",
      "2023-09-04 13:57:16.832 - [NOTICE] callbacks.on_step_start(180): Cycle 16/500, step 1/4: Discharge at 1C until 3V\n",
      "2023-09-04 13:57:16.847 - [NOTICE] callbacks.on_step_start(180): Cycle 16/500, step 2/4: Rest for 1 hour\n",
      "2023-09-04 13:57:16.861 - [NOTICE] callbacks.on_step_start(180): Cycle 16/500, step 3/4: Charge at 1C until 4.2V\n",
      "2023-09-04 13:57:16.878 - [NOTICE] callbacks.on_step_start(180): Cycle 16/500, step 4/4: Hold at 4.2V until C/50\n",
      "2023-09-04 13:57:17.495 - [NOTICE] callbacks.on_cycle_end(194): Capacity is now 4.569 Ah (originally 4.941 Ah, will stop at 3.952 Ah)\n",
      "2023-09-04 13:57:17.495 - [NOTICE] callbacks.on_cycle_start(172): Cycle 17/500 (11.404 s elapsed) --------------------\n",
      "2023-09-04 13:57:17.496 - [NOTICE] callbacks.on_step_start(180): Cycle 17/500, step 1/4: Discharge at 1C until 3V\n",
      "2023-09-04 13:57:17.508 - [NOTICE] callbacks.on_step_start(180): Cycle 17/500, step 2/4: Rest for 1 hour\n",
      "2023-09-04 13:57:17.518 - [NOTICE] callbacks.on_step_start(180): Cycle 17/500, step 3/4: Charge at 1C until 4.2V\n",
      "2023-09-04 13:57:17.530 - [NOTICE] callbacks.on_step_start(180): Cycle 17/500, step 4/4: Hold at 4.2V until C/50\n",
      "2023-09-04 13:57:18.182 - [NOTICE] callbacks.on_cycle_end(194): Capacity is now 4.548 Ah (originally 4.941 Ah, will stop at 3.952 Ah)\n",
      "2023-09-04 13:57:18.182 - [NOTICE] callbacks.on_cycle_start(172): Cycle 18/500 (12.091 s elapsed) --------------------\n",
      "2023-09-04 13:57:18.183 - [NOTICE] callbacks.on_step_start(180): Cycle 18/500, step 1/4: Discharge at 1C until 3V\n",
      "2023-09-04 13:57:18.196 - [NOTICE] callbacks.on_step_start(180): Cycle 18/500, step 2/4: Rest for 1 hour\n",
      "2023-09-04 13:57:18.205 - [NOTICE] callbacks.on_step_start(180): Cycle 18/500, step 3/4: Charge at 1C until 4.2V\n",
      "2023-09-04 13:57:18.222 - [NOTICE] callbacks.on_step_start(180): Cycle 18/500, step 4/4: Hold at 4.2V until C/50\n",
      "2023-09-04 13:57:18.850 - [NOTICE] callbacks.on_cycle_end(194): Capacity is now 4.526 Ah (originally 4.941 Ah, will stop at 3.952 Ah)\n",
      "2023-09-04 13:57:18.851 - [NOTICE] callbacks.on_cycle_start(172): Cycle 19/500 (12.760 s elapsed) --------------------\n",
      "2023-09-04 13:57:18.852 - [NOTICE] callbacks.on_step_start(180): Cycle 19/500, step 1/4: Discharge at 1C until 3V\n",
      "2023-09-04 13:57:18.864 - [NOTICE] callbacks.on_step_start(180): Cycle 19/500, step 2/4: Rest for 1 hour\n",
      "2023-09-04 13:57:18.875 - [NOTICE] callbacks.on_step_start(180): Cycle 19/500, step 3/4: Charge at 1C until 4.2V\n",
      "2023-09-04 13:57:18.891 - [NOTICE] callbacks.on_step_start(180): Cycle 19/500, step 4/4: Hold at 4.2V until C/50\n",
      "2023-09-04 13:57:19.533 - [NOTICE] callbacks.on_cycle_end(194): Capacity is now 4.505 Ah (originally 4.941 Ah, will stop at 3.952 Ah)\n",
      "2023-09-04 13:57:19.534 - [NOTICE] callbacks.on_cycle_start(172): Cycle 20/500 (13.443 s elapsed) --------------------\n",
      "2023-09-04 13:57:19.535 - [NOTICE] callbacks.on_step_start(180): Cycle 20/500, step 1/4: Discharge at 1C until 3V\n",
      "2023-09-04 13:57:19.547 - [NOTICE] callbacks.on_step_start(180): Cycle 20/500, step 2/4: Rest for 1 hour\n",
      "2023-09-04 13:57:19.557 - [NOTICE] callbacks.on_step_start(180): Cycle 20/500, step 3/4: Charge at 1C until 4.2V\n",
      "2023-09-04 13:57:19.570 - [NOTICE] callbacks.on_step_start(180): Cycle 20/500, step 4/4: Hold at 4.2V until C/50\n",
      "2023-09-04 13:57:20.217 - [NOTICE] callbacks.on_cycle_end(194): Capacity is now 4.484 Ah (originally 4.941 Ah, will stop at 3.952 Ah)\n",
      "2023-09-04 13:57:20.218 - [NOTICE] callbacks.on_cycle_start(172): Cycle 21/500 (14.127 s elapsed) --------------------\n",
      "2023-09-04 13:57:20.220 - [NOTICE] callbacks.on_step_start(180): Cycle 21/500, step 1/4: Discharge at 1C until 3V\n",
      "2023-09-04 13:57:20.237 - [NOTICE] callbacks.on_step_start(180): Cycle 21/500, step 2/4: Rest for 1 hour\n",
      "2023-09-04 13:57:20.250 - [NOTICE] callbacks.on_step_start(180): Cycle 21/500, step 3/4: Charge at 1C until 4.2V\n",
      "2023-09-04 13:57:20.267 - [NOTICE] callbacks.on_step_start(180): Cycle 21/500, step 4/4: Hold at 4.2V until C/50\n",
      "2023-09-04 13:57:20.957 - [NOTICE] callbacks.on_cycle_end(194): Capacity is now 4.463 Ah (originally 4.941 Ah, will stop at 3.952 Ah)\n",
      "2023-09-04 13:57:20.958 - [NOTICE] callbacks.on_cycle_start(172): Cycle 22/500 (14.867 s elapsed) --------------------\n",
      "2023-09-04 13:57:20.959 - [NOTICE] callbacks.on_step_start(180): Cycle 22/500, step 1/4: Discharge at 1C until 3V\n",
      "2023-09-04 13:57:20.975 - [NOTICE] callbacks.on_step_start(180): Cycle 22/500, step 2/4: Rest for 1 hour\n",
      "2023-09-04 13:57:20.983 - [NOTICE] callbacks.on_step_start(180): Cycle 22/500, step 3/4: Charge at 1C until 4.2V\n",
      "2023-09-04 13:57:20.995 - [NOTICE] callbacks.on_step_start(180): Cycle 22/500, step 4/4: Hold at 4.2V until C/50\n",
      "2023-09-04 13:57:21.697 - [NOTICE] callbacks.on_cycle_end(194): Capacity is now 4.442 Ah (originally 4.941 Ah, will stop at 3.952 Ah)\n",
      "2023-09-04 13:57:21.698 - [NOTICE] callbacks.on_cycle_start(172): Cycle 23/500 (15.607 s elapsed) --------------------\n",
      "2023-09-04 13:57:21.699 - [NOTICE] callbacks.on_step_start(180): Cycle 23/500, step 1/4: Discharge at 1C until 3V\n",
      "2023-09-04 13:57:21.715 - [NOTICE] callbacks.on_step_start(180): Cycle 23/500, step 2/4: Rest for 1 hour\n",
      "2023-09-04 13:57:21.725 - [NOTICE] callbacks.on_step_start(180): Cycle 23/500, step 3/4: Charge at 1C until 4.2V\n",
      "2023-09-04 13:57:21.741 - [NOTICE] callbacks.on_step_start(180): Cycle 23/500, step 4/4: Hold at 4.2V until C/50\n",
      "2023-09-04 13:57:22.408 - [NOTICE] callbacks.on_cycle_end(194): Capacity is now 4.422 Ah (originally 4.941 Ah, will stop at 3.952 Ah)\n",
      "2023-09-04 13:57:22.408 - [NOTICE] callbacks.on_cycle_start(172): Cycle 24/500 (16.317 s elapsed) --------------------\n",
      "2023-09-04 13:57:22.409 - [NOTICE] callbacks.on_step_start(180): Cycle 24/500, step 1/4: Discharge at 1C until 3V\n",
      "2023-09-04 13:57:22.420 - [NOTICE] callbacks.on_step_start(180): Cycle 24/500, step 2/4: Rest for 1 hour\n",
      "2023-09-04 13:57:22.428 - [NOTICE] callbacks.on_step_start(180): Cycle 24/500, step 3/4: Charge at 1C until 4.2V\n",
      "2023-09-04 13:57:22.442 - [NOTICE] callbacks.on_step_start(180): Cycle 24/500, step 4/4: Hold at 4.2V until C/50\n",
      "2023-09-04 13:57:23.094 - [NOTICE] callbacks.on_cycle_end(194): Capacity is now 4.402 Ah (originally 4.941 Ah, will stop at 3.952 Ah)\n",
      "2023-09-04 13:57:23.094 - [NOTICE] callbacks.on_cycle_start(172): Cycle 25/500 (17.003 s elapsed) --------------------\n",
      "2023-09-04 13:57:23.095 - [NOTICE] callbacks.on_step_start(180): Cycle 25/500, step 1/4: Discharge at 1C until 3V\n",
      "2023-09-04 13:57:23.108 - [NOTICE] callbacks.on_step_start(180): Cycle 25/500, step 2/4: Rest for 1 hour\n",
      "2023-09-04 13:57:23.119 - [NOTICE] callbacks.on_step_start(180): Cycle 25/500, step 3/4: Charge at 1C until 4.2V\n",
      "2023-09-04 13:57:23.146 - [NOTICE] callbacks.on_step_start(180): Cycle 25/500, step 4/4: Hold at 4.2V until C/50\n",
      "2023-09-04 13:57:23.830 - [NOTICE] callbacks.on_cycle_end(194): Capacity is now 4.382 Ah (originally 4.941 Ah, will stop at 3.952 Ah)\n",
      "2023-09-04 13:57:23.831 - [NOTICE] callbacks.on_cycle_start(172): Cycle 26/500 (17.740 s elapsed) --------------------\n",
      "2023-09-04 13:57:23.832 - [NOTICE] callbacks.on_step_start(180): Cycle 26/500, step 1/4: Discharge at 1C until 3V\n",
      "2023-09-04 13:57:23.845 - [NOTICE] callbacks.on_step_start(180): Cycle 26/500, step 2/4: Rest for 1 hour\n",
      "2023-09-04 13:57:23.854 - [NOTICE] callbacks.on_step_start(180): Cycle 26/500, step 3/4: Charge at 1C until 4.2V\n",
      "2023-09-04 13:57:23.868 - [NOTICE] callbacks.on_step_start(180): Cycle 26/500, step 4/4: Hold at 4.2V until C/50\n",
      "2023-09-04 13:57:24.514 - [NOTICE] callbacks.on_cycle_end(194): Capacity is now 4.362 Ah (originally 4.941 Ah, will stop at 3.952 Ah)\n",
      "2023-09-04 13:57:24.516 - [NOTICE] callbacks.on_cycle_start(172): Cycle 27/500 (18.425 s elapsed) --------------------\n",
      "2023-09-04 13:57:24.517 - [NOTICE] callbacks.on_step_start(180): Cycle 27/500, step 1/4: Discharge at 1C until 3V\n",
      "2023-09-04 13:57:24.533 - [NOTICE] callbacks.on_step_start(180): Cycle 27/500, step 2/4: Rest for 1 hour\n",
      "2023-09-04 13:57:24.543 - [NOTICE] callbacks.on_step_start(180): Cycle 27/500, step 3/4: Charge at 1C until 4.2V\n",
      "2023-09-04 13:57:24.556 - [NOTICE] callbacks.on_step_start(180): Cycle 27/500, step 4/4: Hold at 4.2V until C/50\n",
      "2023-09-04 13:57:25.153 - [NOTICE] callbacks.on_cycle_end(194): Capacity is now 4.343 Ah (originally 4.941 Ah, will stop at 3.952 Ah)\n",
      "2023-09-04 13:57:25.154 - [NOTICE] callbacks.on_cycle_start(172): Cycle 28/500 (19.063 s elapsed) --------------------\n",
      "2023-09-04 13:57:25.155 - [NOTICE] callbacks.on_step_start(180): Cycle 28/500, step 1/4: Discharge at 1C until 3V\n",
      "2023-09-04 13:57:25.168 - [NOTICE] callbacks.on_step_start(180): Cycle 28/500, step 2/4: Rest for 1 hour\n",
      "2023-09-04 13:57:25.178 - [NOTICE] callbacks.on_step_start(180): Cycle 28/500, step 3/4: Charge at 1C until 4.2V\n",
      "2023-09-04 13:57:25.190 - [NOTICE] callbacks.on_step_start(180): Cycle 28/500, step 4/4: Hold at 4.2V until C/50\n",
      "2023-09-04 13:57:25.807 - [NOTICE] callbacks.on_cycle_end(194): Capacity is now 4.324 Ah (originally 4.941 Ah, will stop at 3.952 Ah)\n",
      "2023-09-04 13:57:25.808 - [NOTICE] callbacks.on_cycle_start(172): Cycle 29/500 (19.717 s elapsed) --------------------\n",
      "2023-09-04 13:57:25.809 - [NOTICE] callbacks.on_step_start(180): Cycle 29/500, step 1/4: Discharge at 1C until 3V\n",
      "2023-09-04 13:57:25.823 - [NOTICE] callbacks.on_step_start(180): Cycle 29/500, step 2/4: Rest for 1 hour\n",
      "2023-09-04 13:57:25.836 - [NOTICE] callbacks.on_step_start(180): Cycle 29/500, step 3/4: Charge at 1C until 4.2V\n",
      "2023-09-04 13:57:25.849 - [NOTICE] callbacks.on_step_start(180): Cycle 29/500, step 4/4: Hold at 4.2V until C/50\n",
      "2023-09-04 13:57:26.497 - [NOTICE] callbacks.on_cycle_end(194): Capacity is now 4.305 Ah (originally 4.941 Ah, will stop at 3.952 Ah)\n",
      "2023-09-04 13:57:26.498 - [NOTICE] callbacks.on_cycle_start(172): Cycle 30/500 (20.407 s elapsed) --------------------\n",
      "2023-09-04 13:57:26.499 - [NOTICE] callbacks.on_step_start(180): Cycle 30/500, step 1/4: Discharge at 1C until 3V\n",
      "2023-09-04 13:57:26.510 - [NOTICE] callbacks.on_step_start(180): Cycle 30/500, step 2/4: Rest for 1 hour\n",
      "2023-09-04 13:57:26.520 - [NOTICE] callbacks.on_step_start(180): Cycle 30/500, step 3/4: Charge at 1C until 4.2V\n",
      "2023-09-04 13:57:26.531 - [NOTICE] callbacks.on_step_start(180): Cycle 30/500, step 4/4: Hold at 4.2V until C/50\n",
      "2023-09-04 13:57:27.176 - [NOTICE] callbacks.on_cycle_end(194): Capacity is now 4.286 Ah (originally 4.941 Ah, will stop at 3.952 Ah)\n",
      "2023-09-04 13:57:27.177 - [NOTICE] callbacks.on_cycle_start(172): Cycle 31/500 (21.086 s elapsed) --------------------\n",
      "2023-09-04 13:57:27.178 - [NOTICE] callbacks.on_step_start(180): Cycle 31/500, step 1/4: Discharge at 1C until 3V\n",
      "2023-09-04 13:57:27.192 - [NOTICE] callbacks.on_step_start(180): Cycle 31/500, step 2/4: Rest for 1 hour\n",
      "2023-09-04 13:57:27.485 - [NOTICE] callbacks.on_step_start(180): Cycle 31/500, step 3/4: Charge at 1C until 4.2V\n",
      "2023-09-04 13:57:27.500 - [NOTICE] callbacks.on_step_start(180): Cycle 31/500, step 4/4: Hold at 4.2V until C/50\n",
      "2023-09-04 13:57:28.152 - [NOTICE] callbacks.on_cycle_end(194): Capacity is now 4.267 Ah (originally 4.941 Ah, will stop at 3.952 Ah)\n",
      "2023-09-04 13:57:28.153 - [NOTICE] callbacks.on_cycle_start(172): Cycle 32/500 (22.062 s elapsed) --------------------\n",
      "2023-09-04 13:57:28.153 - [NOTICE] callbacks.on_step_start(180): Cycle 32/500, step 1/4: Discharge at 1C until 3V\n",
      "2023-09-04 13:57:28.165 - [NOTICE] callbacks.on_step_start(180): Cycle 32/500, step 2/4: Rest for 1 hour\n",
      "2023-09-04 13:57:28.174 - [NOTICE] callbacks.on_step_start(180): Cycle 32/500, step 3/4: Charge at 1C until 4.2V\n",
      "2023-09-04 13:57:28.184 - [NOTICE] callbacks.on_step_start(180): Cycle 32/500, step 4/4: Hold at 4.2V until C/50\n",
      "2023-09-04 13:57:28.826 - [NOTICE] callbacks.on_cycle_end(194): Capacity is now 4.249 Ah (originally 4.941 Ah, will stop at 3.952 Ah)\n",
      "2023-09-04 13:57:28.827 - [NOTICE] callbacks.on_cycle_start(172): Cycle 33/500 (22.736 s elapsed) --------------------\n",
      "2023-09-04 13:57:28.828 - [NOTICE] callbacks.on_step_start(180): Cycle 33/500, step 1/4: Discharge at 1C until 3V\n",
      "2023-09-04 13:57:28.841 - [NOTICE] callbacks.on_step_start(180): Cycle 33/500, step 2/4: Rest for 1 hour\n",
      "2023-09-04 13:57:28.853 - [NOTICE] callbacks.on_step_start(180): Cycle 33/500, step 3/4: Charge at 1C until 4.2V\n",
      "2023-09-04 13:57:28.867 - [NOTICE] callbacks.on_step_start(180): Cycle 33/500, step 4/4: Hold at 4.2V until C/50\n",
      "2023-09-04 13:57:29.529 - [NOTICE] callbacks.on_cycle_end(194): Capacity is now 4.231 Ah (originally 4.941 Ah, will stop at 3.952 Ah)\n",
      "2023-09-04 13:57:29.530 - [NOTICE] callbacks.on_cycle_start(172): Cycle 34/500 (23.439 s elapsed) --------------------\n",
      "2023-09-04 13:57:29.530 - [NOTICE] callbacks.on_step_start(180): Cycle 34/500, step 1/4: Discharge at 1C until 3V\n",
      "2023-09-04 13:57:29.542 - [NOTICE] callbacks.on_step_start(180): Cycle 34/500, step 2/4: Rest for 1 hour\n",
      "2023-09-04 13:57:29.551 - [NOTICE] callbacks.on_step_start(180): Cycle 34/500, step 3/4: Charge at 1C until 4.2V\n",
      "2023-09-04 13:57:29.562 - [NOTICE] callbacks.on_step_start(180): Cycle 34/500, step 4/4: Hold at 4.2V until C/50\n",
      "2023-09-04 13:57:30.178 - [NOTICE] callbacks.on_cycle_end(194): Capacity is now 4.213 Ah (originally 4.941 Ah, will stop at 3.952 Ah)\n",
      "2023-09-04 13:57:30.179 - [NOTICE] callbacks.on_cycle_start(172): Cycle 35/500 (24.088 s elapsed) --------------------\n",
      "2023-09-04 13:57:30.179 - [NOTICE] callbacks.on_step_start(180): Cycle 35/500, step 1/4: Discharge at 1C until 3V\n",
      "2023-09-04 13:57:30.191 - [NOTICE] callbacks.on_step_start(180): Cycle 35/500, step 2/4: Rest for 1 hour\n",
      "2023-09-04 13:57:30.201 - [NOTICE] callbacks.on_step_start(180): Cycle 35/500, step 3/4: Charge at 1C until 4.2V\n",
      "2023-09-04 13:57:30.213 - [NOTICE] callbacks.on_step_start(180): Cycle 35/500, step 4/4: Hold at 4.2V until C/50\n",
      "2023-09-04 13:57:30.837 - [NOTICE] callbacks.on_cycle_end(194): Capacity is now 4.195 Ah (originally 4.941 Ah, will stop at 3.952 Ah)\n",
      "2023-09-04 13:57:30.837 - [NOTICE] callbacks.on_cycle_start(172): Cycle 36/500 (24.746 s elapsed) --------------------\n",
      "2023-09-04 13:57:30.838 - [NOTICE] callbacks.on_step_start(180): Cycle 36/500, step 1/4: Discharge at 1C until 3V\n",
      "2023-09-04 13:57:30.851 - [NOTICE] callbacks.on_step_start(180): Cycle 36/500, step 2/4: Rest for 1 hour\n",
      "2023-09-04 13:57:30.862 - [NOTICE] callbacks.on_step_start(180): Cycle 36/500, step 3/4: Charge at 1C until 4.2V\n",
      "2023-09-04 13:57:30.874 - [NOTICE] callbacks.on_step_start(180): Cycle 36/500, step 4/4: Hold at 4.2V until C/50\n",
      "2023-09-04 13:57:31.483 - [NOTICE] callbacks.on_cycle_end(194): Capacity is now 4.177 Ah (originally 4.941 Ah, will stop at 3.952 Ah)\n",
      "2023-09-04 13:57:31.484 - [NOTICE] callbacks.on_cycle_start(172): Cycle 37/500 (25.393 s elapsed) --------------------\n",
      "2023-09-04 13:57:31.485 - [NOTICE] callbacks.on_step_start(180): Cycle 37/500, step 1/4: Discharge at 1C until 3V\n",
      "2023-09-04 13:57:31.498 - [NOTICE] callbacks.on_step_start(180): Cycle 37/500, step 2/4: Rest for 1 hour\n",
      "2023-09-04 13:57:31.506 - [NOTICE] callbacks.on_step_start(180): Cycle 37/500, step 3/4: Charge at 1C until 4.2V\n",
      "2023-09-04 13:57:31.518 - [NOTICE] callbacks.on_step_start(180): Cycle 37/500, step 4/4: Hold at 4.2V until C/50\n",
      "2023-09-04 13:57:32.101 - [NOTICE] callbacks.on_cycle_end(194): Capacity is now 4.160 Ah (originally 4.941 Ah, will stop at 3.952 Ah)\n",
      "2023-09-04 13:57:32.101 - [NOTICE] callbacks.on_cycle_start(172): Cycle 38/500 (26.010 s elapsed) --------------------\n",
      "2023-09-04 13:57:32.102 - [NOTICE] callbacks.on_step_start(180): Cycle 38/500, step 1/4: Discharge at 1C until 3V\n",
      "2023-09-04 13:57:32.115 - [NOTICE] callbacks.on_step_start(180): Cycle 38/500, step 2/4: Rest for 1 hour\n",
      "2023-09-04 13:57:32.123 - [NOTICE] callbacks.on_step_start(180): Cycle 38/500, step 3/4: Charge at 1C until 4.2V\n",
      "2023-09-04 13:57:32.135 - [NOTICE] callbacks.on_step_start(180): Cycle 38/500, step 4/4: Hold at 4.2V until C/50\n",
      "2023-09-04 13:57:32.725 - [NOTICE] callbacks.on_cycle_end(194): Capacity is now 4.143 Ah (originally 4.941 Ah, will stop at 3.952 Ah)\n",
      "2023-09-04 13:57:32.725 - [NOTICE] callbacks.on_cycle_start(172): Cycle 39/500 (26.634 s elapsed) --------------------\n",
      "2023-09-04 13:57:32.726 - [NOTICE] callbacks.on_step_start(180): Cycle 39/500, step 1/4: Discharge at 1C until 3V\n",
      "2023-09-04 13:57:32.738 - [NOTICE] callbacks.on_step_start(180): Cycle 39/500, step 2/4: Rest for 1 hour\n",
      "2023-09-04 13:57:32.748 - [NOTICE] callbacks.on_step_start(180): Cycle 39/500, step 3/4: Charge at 1C until 4.2V\n",
      "2023-09-04 13:57:32.759 - [NOTICE] callbacks.on_step_start(180): Cycle 39/500, step 4/4: Hold at 4.2V until C/50\n",
      "2023-09-04 13:57:33.377 - [NOTICE] callbacks.on_cycle_end(194): Capacity is now 4.125 Ah (originally 4.941 Ah, will stop at 3.952 Ah)\n",
      "2023-09-04 13:57:33.378 - [NOTICE] callbacks.on_cycle_start(172): Cycle 40/500 (27.287 s elapsed) --------------------\n",
      "2023-09-04 13:57:33.379 - [NOTICE] callbacks.on_step_start(180): Cycle 40/500, step 1/4: Discharge at 1C until 3V\n",
      "2023-09-04 13:57:33.393 - [NOTICE] callbacks.on_step_start(180): Cycle 40/500, step 2/4: Rest for 1 hour\n",
      "2023-09-04 13:57:33.401 - [NOTICE] callbacks.on_step_start(180): Cycle 40/500, step 3/4: Charge at 1C until 4.2V\n",
      "2023-09-04 13:57:33.412 - [NOTICE] callbacks.on_step_start(180): Cycle 40/500, step 4/4: Hold at 4.2V until C/50\n",
      "2023-09-04 13:57:34.013 - [NOTICE] callbacks.on_cycle_end(194): Capacity is now 4.108 Ah (originally 4.941 Ah, will stop at 3.952 Ah)\n",
      "2023-09-04 13:57:34.014 - [NOTICE] callbacks.on_cycle_start(172): Cycle 41/500 (27.923 s elapsed) --------------------\n",
      "2023-09-04 13:57:34.015 - [NOTICE] callbacks.on_step_start(180): Cycle 41/500, step 1/4: Discharge at 1C until 3V\n",
      "2023-09-04 13:57:34.029 - [NOTICE] callbacks.on_step_start(180): Cycle 41/500, step 2/4: Rest for 1 hour\n",
      "2023-09-04 13:57:34.040 - [NOTICE] callbacks.on_step_start(180): Cycle 41/500, step 3/4: Charge at 1C until 4.2V\n",
      "2023-09-04 13:57:34.055 - [NOTICE] callbacks.on_step_start(180): Cycle 41/500, step 4/4: Hold at 4.2V until C/50\n",
      "2023-09-04 13:57:34.665 - [NOTICE] callbacks.on_cycle_end(194): Capacity is now 4.092 Ah (originally 4.941 Ah, will stop at 3.952 Ah)\n",
      "2023-09-04 13:57:34.666 - [NOTICE] callbacks.on_cycle_start(172): Cycle 42/500 (28.575 s elapsed) --------------------\n",
      "2023-09-04 13:57:34.667 - [NOTICE] callbacks.on_step_start(180): Cycle 42/500, step 1/4: Discharge at 1C until 3V\n",
      "2023-09-04 13:57:34.679 - [NOTICE] callbacks.on_step_start(180): Cycle 42/500, step 2/4: Rest for 1 hour\n",
      "2023-09-04 13:57:34.687 - [NOTICE] callbacks.on_step_start(180): Cycle 42/500, step 3/4: Charge at 1C until 4.2V\n",
      "2023-09-04 13:57:34.697 - [NOTICE] callbacks.on_step_start(180): Cycle 42/500, step 4/4: Hold at 4.2V until C/50\n",
      "2023-09-04 13:57:35.297 - [NOTICE] callbacks.on_cycle_end(194): Capacity is now 4.075 Ah (originally 4.941 Ah, will stop at 3.952 Ah)\n",
      "2023-09-04 13:57:35.298 - [NOTICE] callbacks.on_cycle_start(172): Cycle 43/500 (29.206 s elapsed) --------------------\n",
      "2023-09-04 13:57:35.298 - [NOTICE] callbacks.on_step_start(180): Cycle 43/500, step 1/4: Discharge at 1C until 3V\n",
      "2023-09-04 13:57:35.316 - [NOTICE] callbacks.on_step_start(180): Cycle 43/500, step 2/4: Rest for 1 hour\n",
      "2023-09-04 13:57:35.325 - [NOTICE] callbacks.on_step_start(180): Cycle 43/500, step 3/4: Charge at 1C until 4.2V\n",
      "2023-09-04 13:57:35.335 - [NOTICE] callbacks.on_step_start(180): Cycle 43/500, step 4/4: Hold at 4.2V until C/50\n",
      "2023-09-04 13:57:35.942 - [NOTICE] callbacks.on_cycle_end(194): Capacity is now 4.059 Ah (originally 4.941 Ah, will stop at 3.952 Ah)\n",
      "2023-09-04 13:57:35.943 - [NOTICE] callbacks.on_cycle_start(172): Cycle 44/500 (29.852 s elapsed) --------------------\n",
      "2023-09-04 13:57:35.944 - [NOTICE] callbacks.on_step_start(180): Cycle 44/500, step 1/4: Discharge at 1C until 3V\n",
      "2023-09-04 13:57:35.961 - [NOTICE] callbacks.on_step_start(180): Cycle 44/500, step 2/4: Rest for 1 hour\n",
      "2023-09-04 13:57:35.970 - [NOTICE] callbacks.on_step_start(180): Cycle 44/500, step 3/4: Charge at 1C until 4.2V\n",
      "2023-09-04 13:57:35.981 - [NOTICE] callbacks.on_step_start(180): Cycle 44/500, step 4/4: Hold at 4.2V until C/50\n",
      "2023-09-04 13:57:36.607 - [NOTICE] callbacks.on_cycle_end(194): Capacity is now 4.042 Ah (originally 4.941 Ah, will stop at 3.952 Ah)\n",
      "2023-09-04 13:57:36.608 - [NOTICE] callbacks.on_cycle_start(172): Cycle 45/500 (30.517 s elapsed) --------------------\n",
      "2023-09-04 13:57:36.609 - [NOTICE] callbacks.on_step_start(180): Cycle 45/500, step 1/4: Discharge at 1C until 3V\n",
      "2023-09-04 13:57:36.624 - [NOTICE] callbacks.on_step_start(180): Cycle 45/500, step 2/4: Rest for 1 hour\n",
      "2023-09-04 13:57:36.633 - [NOTICE] callbacks.on_step_start(180): Cycle 45/500, step 3/4: Charge at 1C until 4.2V\n",
      "2023-09-04 13:57:36.644 - [NOTICE] callbacks.on_step_start(180): Cycle 45/500, step 4/4: Hold at 4.2V until C/50\n",
      "2023-09-04 13:57:37.253 - [NOTICE] callbacks.on_cycle_end(194): Capacity is now 4.026 Ah (originally 4.941 Ah, will stop at 3.952 Ah)\n",
      "2023-09-04 13:57:37.254 - [NOTICE] callbacks.on_cycle_start(172): Cycle 46/500 (31.163 s elapsed) --------------------\n",
      "2023-09-04 13:57:37.255 - [NOTICE] callbacks.on_step_start(180): Cycle 46/500, step 1/4: Discharge at 1C until 3V\n",
      "2023-09-04 13:57:37.270 - [NOTICE] callbacks.on_step_start(180): Cycle 46/500, step 2/4: Rest for 1 hour\n",
      "2023-09-04 13:57:37.280 - [NOTICE] callbacks.on_step_start(180): Cycle 46/500, step 3/4: Charge at 1C until 4.2V\n",
      "2023-09-04 13:57:37.292 - [NOTICE] callbacks.on_step_start(180): Cycle 46/500, step 4/4: Hold at 4.2V until C/50\n",
      "2023-09-04 13:57:37.897 - [NOTICE] callbacks.on_cycle_end(194): Capacity is now 4.010 Ah (originally 4.941 Ah, will stop at 3.952 Ah)\n",
      "2023-09-04 13:57:37.898 - [NOTICE] callbacks.on_cycle_start(172): Cycle 47/500 (31.807 s elapsed) --------------------\n",
      "2023-09-04 13:57:37.899 - [NOTICE] callbacks.on_step_start(180): Cycle 47/500, step 1/4: Discharge at 1C until 3V\n",
      "2023-09-04 13:57:37.914 - [NOTICE] callbacks.on_step_start(180): Cycle 47/500, step 2/4: Rest for 1 hour\n",
      "2023-09-04 13:57:37.922 - [NOTICE] callbacks.on_step_start(180): Cycle 47/500, step 3/4: Charge at 1C until 4.2V\n",
      "2023-09-04 13:57:37.934 - [NOTICE] callbacks.on_step_start(180): Cycle 47/500, step 4/4: Hold at 4.2V until C/50\n",
      "2023-09-04 13:57:38.532 - [NOTICE] callbacks.on_cycle_end(194): Capacity is now 3.994 Ah (originally 4.941 Ah, will stop at 3.952 Ah)\n",
      "2023-09-04 13:57:38.533 - [NOTICE] callbacks.on_cycle_start(172): Cycle 48/500 (32.442 s elapsed) --------------------\n",
      "2023-09-04 13:57:38.534 - [NOTICE] callbacks.on_step_start(180): Cycle 48/500, step 1/4: Discharge at 1C until 3V\n",
      "2023-09-04 13:57:38.547 - [NOTICE] callbacks.on_step_start(180): Cycle 48/500, step 2/4: Rest for 1 hour\n",
      "2023-09-04 13:57:38.555 - [NOTICE] callbacks.on_step_start(180): Cycle 48/500, step 3/4: Charge at 1C until 4.2V\n",
      "2023-09-04 13:57:38.566 - [NOTICE] callbacks.on_step_start(180): Cycle 48/500, step 4/4: Hold at 4.2V until C/50\n",
      "2023-09-04 13:57:39.466 - [NOTICE] callbacks.on_cycle_end(194): Capacity is now 3.978 Ah (originally 4.941 Ah, will stop at 3.952 Ah)\n",
      "2023-09-04 13:57:39.466 - [NOTICE] callbacks.on_cycle_start(172): Cycle 49/500 (33.375 s elapsed) --------------------\n",
      "2023-09-04 13:57:39.467 - [NOTICE] callbacks.on_step_start(180): Cycle 49/500, step 1/4: Discharge at 1C until 3V\n",
      "2023-09-04 13:57:39.479 - [NOTICE] callbacks.on_step_start(180): Cycle 49/500, step 2/4: Rest for 1 hour\n",
      "2023-09-04 13:57:39.488 - [NOTICE] callbacks.on_step_start(180): Cycle 49/500, step 3/4: Charge at 1C until 4.2V\n",
      "2023-09-04 13:57:39.498 - [NOTICE] callbacks.on_step_start(180): Cycle 49/500, step 4/4: Hold at 4.2V until C/50\n",
      "2023-09-04 13:57:40.095 - [NOTICE] callbacks.on_cycle_end(194): Capacity is now 3.962 Ah (originally 4.941 Ah, will stop at 3.952 Ah)\n",
      "2023-09-04 13:57:40.096 - [NOTICE] callbacks.on_cycle_start(172): Cycle 50/500 (34.004 s elapsed) --------------------\n",
      "2023-09-04 13:57:40.096 - [NOTICE] callbacks.on_step_start(180): Cycle 50/500, step 1/4: Discharge at 1C until 3V\n",
      "2023-09-04 13:57:40.107 - [NOTICE] callbacks.on_step_start(180): Cycle 50/500, step 2/4: Rest for 1 hour\n",
      "2023-09-04 13:57:40.118 - [NOTICE] callbacks.on_step_start(180): Cycle 50/500, step 3/4: Charge at 1C until 4.2V\n",
      "2023-09-04 13:57:40.130 - [NOTICE] callbacks.on_step_start(180): Cycle 50/500, step 4/4: Hold at 4.2V until C/50\n",
      "2023-09-04 13:57:40.738 - [NOTICE] callbacks.on_cycle_end(199): Stopping experiment since capacity (3.947 Ah) is below stopping capacity (3.952 Ah).\n",
      "2023-09-04 13:57:40.740 - [NOTICE] callbacks.on_experiment_end(220): Finish experiment simulation, took 34.647 s\n"
     ]
    }
   ],
   "source": [
    "experiment = pybamm.Experiment([\n",
    "    (\"Discharge at 1C until 3V\",\n",
    "     \"Rest for 1 hour\",\n",
    "     \"Charge at 1C until 4.2V\", \n",
    "     \"Hold at 4.2V until C/50\")\n",
    "] * 500,\n",
    "termination=\"80% capacity\"\n",
    ")\n",
    "sim = pybamm.Simulation(spm, experiment=experiment, parameter_values=parameter_values)\n",
    "sol = sim.solve(initial_soc=1)"
   ]
  },
  {
   "cell_type": "markdown",
   "id": "1bcedf45-c72f-4144-bb65-a8fee4c6f32b",
   "metadata": {},
   "source": [
    "### Summary variables"
   ]
  },
  {
   "cell_type": "markdown",
   "id": "d8059c66-c368-4e52-9d61-d1851708d250",
   "metadata": {},
   "source": [
    "We can plot standard variables like the current and voltage, but it isn't very instructive on these timescales"
   ]
  },
  {
   "cell_type": "code",
   "execution_count": 40,
   "id": "ddceb5b5-872c-4030-88da-f240b5f2c508",
   "metadata": {
    "tags": []
   },
   "outputs": [
    {
     "data": {
      "application/vnd.jupyter.widget-view+json": {
       "model_id": "e363d65ce6904e108d6f2ba8dd0fabea",
       "version_major": 2,
       "version_minor": 0
      },
      "text/plain": [
       "interactive(children=(FloatSlider(value=0.0, description='t', max=147.0814576721651, step=1.470814576721651), …"
      ]
     },
     "metadata": {},
     "output_type": "display_data"
    },
    {
     "data": {
      "text/plain": [
       "<pybamm.plotting.quick_plot.QuickPlot at 0x2442a843760>"
      ]
     },
     "execution_count": 40,
     "metadata": {},
     "output_type": "execute_result"
    }
   ],
   "source": [
    "sol.plot([\"Current [A]\", \"Terminal voltage [V]\"])"
   ]
  },
  {
   "cell_type": "markdown",
   "id": "52682a98-1655-43a1-bb27-f92188e06721",
   "metadata": {},
   "source": [
    "Instead, we plot \"summary variables\", which show how the battery degrades over time by various metrics. Some of the variables also have \"Change in ...\", which is how much that variable changes over each cycle. This can be achieved by using `plot_summary_variables` method of pybamm, which can also be used to compare \"summary variables\" extracted from 2 or more solutions."
   ]
  },
  {
   "cell_type": "code",
   "execution_count": 41,
   "id": "4e5d2f1f-d12a-476d-b660-7b05e84ffc8d",
   "metadata": {
    "tags": []
   },
   "outputs": [
    {
     "data": {
      "text/plain": [
       "['Capacity [A.h]',\n",
       " 'Capacity [mA.h.cm-2]',\n",
       " 'Change in local ECM resistance [Ohm]',\n",
       " 'Change in loss of active material in negative electrode [%]',\n",
       " 'Change in loss of active material in positive electrode [%]',\n",
       " 'Change in loss of capacity to SEI [A.h]',\n",
       " 'Change in loss of capacity to SEI on cracks [A.h]',\n",
       " 'Change in loss of capacity to lithium plating [A.h]',\n",
       " 'Change in loss of lithium inventory [%]',\n",
       " 'Change in loss of lithium inventory, including electrolyte [%]',\n",
       " 'Change in loss of lithium to SEI [mol]',\n",
       " 'Change in loss of lithium to SEI on cracks [mol]',\n",
       " 'Change in loss of lithium to lithium plating [mol]',\n",
       " 'Change in negative electrode capacity [A.h]',\n",
       " 'Change in positive electrode capacity [A.h]',\n",
       " 'Change in throughput capacity [A.h]',\n",
       " 'Change in throughput energy [W.h]',\n",
       " 'Change in time [h]',\n",
       " 'Change in time [s]',\n",
       " 'Change in total capacity lost to side reactions [A.h]',\n",
       " 'Change in total lithium [mol]',\n",
       " 'Change in total lithium in electrolyte [mol]',\n",
       " 'Change in total lithium in negative electrode [mol]',\n",
       " 'Change in total lithium in particles [mol]',\n",
       " 'Change in total lithium in positive electrode [mol]',\n",
       " 'Change in total lithium lost [mol]',\n",
       " 'Change in total lithium lost from electrolyte [mol]',\n",
       " 'Change in total lithium lost from particles [mol]',\n",
       " 'Change in total lithium lost to side reactions [mol]',\n",
       " 'Cyclable lithium capacity [A.h]',\n",
       " 'Cyclable lithium capacity [mA.h.cm-2]',\n",
       " 'Cycle number',\n",
       " 'Formation capacity loss [A.h]',\n",
       " 'Formation capacity loss [mA.h.cm-2]',\n",
       " 'Local ECM resistance [Ohm]',\n",
       " 'Loss of active material in negative electrode [%]',\n",
       " 'Loss of active material in positive electrode [%]',\n",
       " 'Loss of capacity to SEI [A.h]',\n",
       " 'Loss of capacity to SEI on cracks [A.h]',\n",
       " 'Loss of capacity to lithium plating [A.h]',\n",
       " 'Loss of lithium inventory [%]',\n",
       " 'Loss of lithium inventory, including electrolyte [%]',\n",
       " 'Loss of lithium to SEI [mol]',\n",
       " 'Loss of lithium to SEI on cracks [mol]',\n",
       " 'Loss of lithium to lithium plating [mol]',\n",
       " 'Maximum measured discharge capacity [A.h]',\n",
       " 'Maximum theoretical energy [W.h]',\n",
       " 'Maximum voltage [V]',\n",
       " 'Measured capacity [A.h]',\n",
       " 'Minimum measured discharge capacity [A.h]',\n",
       " 'Minimum voltage [V]',\n",
       " 'NPR',\n",
       " 'Negative electrode capacity [A.h]',\n",
       " 'Negative electrode capacity [mA.h.cm-2]',\n",
       " 'Negative electrode excess capacity ratio',\n",
       " 'Negative positive ratio',\n",
       " 'Positive electrode capacity [A.h]',\n",
       " 'Positive electrode capacity [mA.h.cm-2]',\n",
       " 'Positive electrode excess capacity ratio',\n",
       " 'Practical NPR',\n",
       " 'Practical negative positive ratio',\n",
       " 'Q',\n",
       " 'Q_Li',\n",
       " 'Q_n',\n",
       " 'Q_n * (x_100 - x_0)',\n",
       " 'Q_p',\n",
       " 'Q_p * (y_0 - y_100)',\n",
       " 'Throughput capacity [A.h]',\n",
       " 'Throughput energy [W.h]',\n",
       " 'Time [h]',\n",
       " 'Time [s]',\n",
       " 'Total capacity lost to side reactions [A.h]',\n",
       " 'Total lithium [mol]',\n",
       " 'Total lithium in electrolyte [mol]',\n",
       " 'Total lithium in negative electrode [mol]',\n",
       " 'Total lithium in particles [mol]',\n",
       " 'Total lithium in positive electrode [mol]',\n",
       " 'Total lithium lost [mol]',\n",
       " 'Total lithium lost from electrolyte [mol]',\n",
       " 'Total lithium lost from particles [mol]',\n",
       " 'Total lithium lost to side reactions [mol]',\n",
       " 'Un(x_0)',\n",
       " 'Un(x_100)',\n",
       " 'Up(y_0)',\n",
       " 'Up(y_0) - Un(x_0)',\n",
       " 'Up(y_100)',\n",
       " 'Up(y_100) - Un(x_100)',\n",
       " 'n_Li',\n",
       " 'x_0',\n",
       " 'x_100',\n",
       " 'x_100 - x_0',\n",
       " 'y_0',\n",
       " 'y_0 - y_100',\n",
       " 'y_100']"
      ]
     },
     "execution_count": 41,
     "metadata": {},
     "output_type": "execute_result"
    }
   ],
   "source": [
    "sorted(sol.summary_variables.keys())"
   ]
  },
  {
   "cell_type": "markdown",
   "id": "f2320643-a067-48f3-9af5-2b48b504da87",
   "metadata": {},
   "source": [
    "The \"summary variables\" associated with a particular model can also be accessed as a list (which can then be edited) -"
   ]
  },
  {
   "cell_type": "code",
   "execution_count": 42,
   "id": "e6c8ad1a-d1f2-47b1-8b88-5580c75199a3",
   "metadata": {
    "tags": []
   },
   "outputs": [
    {
     "data": {
      "text/plain": [
       "['Time [s]',\n",
       " 'Time [h]',\n",
       " 'Throughput capacity [A.h]',\n",
       " 'Throughput energy [W.h]',\n",
       " 'Loss of lithium inventory [%]',\n",
       " 'Loss of lithium inventory, including electrolyte [%]',\n",
       " 'Total lithium [mol]',\n",
       " 'Total lithium in electrolyte [mol]',\n",
       " 'Total lithium in particles [mol]',\n",
       " 'Total lithium lost [mol]',\n",
       " 'Total lithium lost from particles [mol]',\n",
       " 'Total lithium lost from electrolyte [mol]',\n",
       " 'Loss of lithium to SEI [mol]',\n",
       " 'Loss of capacity to SEI [A.h]',\n",
       " 'Total lithium lost to side reactions [mol]',\n",
       " 'Total capacity lost to side reactions [A.h]',\n",
       " 'Local ECM resistance [Ohm]',\n",
       " 'Negative electrode capacity [A.h]',\n",
       " 'Loss of active material in negative electrode [%]',\n",
       " 'Total lithium in negative electrode [mol]',\n",
       " 'Loss of lithium to lithium plating [mol]',\n",
       " 'Loss of capacity to lithium plating [A.h]',\n",
       " 'Loss of lithium to SEI on cracks [mol]',\n",
       " 'Loss of capacity to SEI on cracks [A.h]',\n",
       " 'Positive electrode capacity [A.h]',\n",
       " 'Loss of active material in positive electrode [%]',\n",
       " 'Total lithium in positive electrode [mol]']"
      ]
     },
     "execution_count": 42,
     "metadata": {},
     "output_type": "execute_result"
    }
   ],
   "source": [
    "spm.summary_variables"
   ]
  },
  {
   "cell_type": "markdown",
   "id": "b30c69be-bc5d-49b3-8732-d479707de764",
   "metadata": {},
   "source": [
    "Here the only degradation mechanism is one that causes loss of lithium, so we don't see loss of active material"
   ]
  },
  {
   "cell_type": "code",
   "execution_count": 43,
   "id": "1f4fcc51-6a89-4057-86d5-c6ee90dbcab8",
   "metadata": {
    "tags": []
   },
   "outputs": [
    {
     "data": {
      "image/png": "[encoded data removed]",
      "text/plain": [
       "<Figure size 1500x800 with 9 Axes>"
      ]
     },
     "metadata": {},
     "output_type": "display_data"
    },
    {
     "data": {
      "text/plain": [
       "array([[<Axes: xlabel='Cycle number', ylabel='Capacity [A.h]'>,\n",
       "        <Axes: xlabel='Cycle number', ylabel='Loss of lithium inventory [%]'>,\n",
       "        <Axes: xlabel='Cycle number', ylabel='Loss of capacity to SEI [A.h]'>],\n",
       "       [<Axes: xlabel='Cycle number', ylabel='Loss of active material in negative electrode [%]'>,\n",
       "        <Axes: xlabel='Cycle number', ylabel='Loss of active material in positive electrode [%]'>,\n",
       "        <Axes: xlabel='Cycle number', ylabel='x_100'>],\n",
       "       [<Axes: xlabel='Cycle number', ylabel='x_0'>,\n",
       "        <Axes: xlabel='Cycle number', ylabel='y_100'>,\n",
       "        <Axes: xlabel='Cycle number', ylabel='y_0'>]], dtype=object)"
      ]
     },
     "execution_count": 43,
     "metadata": {},
     "output_type": "execute_result"
    }
   ],
   "source": [
    "pybamm.plot_summary_variables(sol)"
   ]
  },
  {
   "cell_type": "code",
   "execution_count": null,
   "id": "681fff7f-ae53-432a-a8e9-2b0495a411c7",
   "metadata": {},
   "outputs": [],
   "source": []
  }
 ],
 "metadata": {
  "kernelspec": {
   "display_name": "Python 3 (ipykernel)",
   "language": "python",
   "name": "python3"
  },
  "language_info": {
   "codemirror_mode": {
    "name": "ipython",
    "version": 3
   },
   "file_extension": ".py",
   "mimetype": "text/x-python",
   "name": "python",
   "nbconvert_exporter": "python",
   "pygments_lexer": "ipython3",
   "version": "3.10.11"
  }
 },
 "nbformat": 4,
 "nbformat_minor": 5
}
